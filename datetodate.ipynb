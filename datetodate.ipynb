{
  "nbformat": 4,
  "nbformat_minor": 0,
  "metadata": {
    "colab": {
      "name": "datetodate.ipynb",
      "version": "0.3.2",
      "provenance": [],
      "collapsed_sections": [],
      "include_colab_link": true
    },
    "kernelspec": {
      "name": "python3",
      "display_name": "Python 3"
    }
  },
  "cells": [
    {
      "cell_type": "markdown",
      "metadata": {
        "id": "view-in-github",
        "colab_type": "text"
      },
      "source": [
        "<a href=\"https://colab.research.google.com/github/ente78/CourtCounter/blob/master/datetodate.ipynb\" target=\"_parent\"><img src=\"https://colab.research.google.com/assets/colab-badge.svg\" alt=\"Open In Colab\"/></a>"
      ]
    },
    {
      "metadata": {
        "id": "PK_S8lkRjdZt",
        "colab_type": "text"
      },
      "cell_type": "markdown",
      "source": [
        "berechne die tage zwischen den daten\n",
        "\n"
      ]
    },
    {
      "metadata": {
        "id": "uOif-NsOjSaJ",
        "colab_type": "text"
      },
      "cell_type": "markdown",
      "source": [
        ""
      ]
    },
    {
      "metadata": {
        "id": "rhus_RgGicwF",
        "colab_type": "code",
        "outputId": "a918cbd3-04b1-42fb-edfe-f8a5c2716e30",
        "colab": {
          "base_uri": "https://localhost:8080/",
          "height": 348
        }
      },
      "cell_type": "code",
      "source": [
        "\n",
        "\n",
        "def isleapyear(year):\n",
        "    if year % 400 ==0:\n",
        "        return True\n",
        "    if year % 100 ==0:\n",
        "        return False\n",
        "    if year % 4 == 0:\n",
        "        return True\n",
        "    return False \n",
        "\n",
        "def dayinmonth(year, month):\n",
        "    #check if the month got 31 days or 30 days\n",
        "    if month ==1 or month==3 or month==5 or month==7 or month==8 or month==10 or month ==12:\n",
        "        return 31\n",
        "    else: \n",
        "        if month ==2:\n",
        "            if isleapyear(year):\n",
        "                return 29\n",
        "            else:\n",
        "                return 28\n",
        "        else:      \n",
        "            return 30\n",
        "    \n",
        "def dateisbefore(year1,month1,day1, year2,month2, day2):\n",
        "    if year1 <year2:\n",
        "        return True\n",
        "    if year1 ==year2:\n",
        "        if month1 < month2:\n",
        "            return True\n",
        "        if month1 == month2:\n",
        "            return day1<day2\n",
        "    return False   \n",
        "\n",
        "\n",
        "def nextday(year, month, day):\n",
        "    '''was passiert hier'''\n",
        "    if day < dayinmonth(year,month):\n",
        "        return year, month, day+1\n",
        "    else:\n",
        "        if month <12:\n",
        "            return year, month +1, day+1\n",
        "        else:\n",
        "            return year +1, 1,1\n",
        "        \n",
        "\n",
        "def daysBetweenDates(year1, month1, day1, year2, month2, day2):\n",
        "    \"\"\"\n",
        "    Calculates the number of days between two dates.\n",
        "    \"\"\"\n",
        "    days = 0\n",
        "    assert not dateisbefore(year2,month2,day2,year1,month1,day1)\n",
        "    while dateisbefore(year1,month1, day1, year2, month2, day2): \n",
        "        year1, month1, day1 = nextday(year1,month1, day1)\n",
        "        days+=1\n",
        "    return days\n",
        " \n",
        "\n",
        "def testDaysBetweenDates():\n",
        "    \n",
        "    # test same day\n",
        "    assert(daysBetweenDates(2017, 12, 30,\n",
        "                              2017, 12, 30) == 0)\n",
        "    # test adjacent days\n",
        "    assert(daysBetweenDates(2017, 12, 30, \n",
        "                              2017, 12, 31) == 1)\n",
        "    # test new year\n",
        "    assert(daysBetweenDates(2017, 12, 30, \n",
        "                              2018, 1,  15)  == 16)\n",
        "    # test next month \n",
        "    assert(daysBetweenDates(2019,1,1,\n",
        "                              2019,2,2)  == 32)\n",
        "    \n",
        "    print(\"Congratulations! Your daysBetweenDates\")\n",
        "    print(\"function is working correctly!\")\n",
        "    \n",
        "testDaysBetweenDates()\n",
        "\n"
      ],
      "execution_count": 10,
      "outputs": [
        {
          "output_type": "error",
          "ename": "AssertionError",
          "evalue": "ignored",
          "traceback": [
            "\u001b[0;31m---------------------------------------------------------------------------\u001b[0m",
            "\u001b[0;31mAssertionError\u001b[0m                            Traceback (most recent call last)",
            "\u001b[0;32m<ipython-input-10-983167364260>\u001b[0m in \u001b[0;36m<module>\u001b[0;34m()\u001b[0m\n\u001b[1;32m     75\u001b[0m     \u001b[0mprint\u001b[0m\u001b[0;34m(\u001b[0m\u001b[0;34m\"function is working correctly!\"\u001b[0m\u001b[0;34m)\u001b[0m\u001b[0;34m\u001b[0m\u001b[0;34m\u001b[0m\u001b[0m\n\u001b[1;32m     76\u001b[0m \u001b[0;34m\u001b[0m\u001b[0m\n\u001b[0;32m---> 77\u001b[0;31m \u001b[0mtestDaysBetweenDates\u001b[0m\u001b[0;34m(\u001b[0m\u001b[0;34m)\u001b[0m\u001b[0;34m\u001b[0m\u001b[0;34m\u001b[0m\u001b[0m\n\u001b[0m\u001b[1;32m     78\u001b[0m \u001b[0;34m\u001b[0m\u001b[0m\n",
            "\u001b[0;32m<ipython-input-10-983167364260>\u001b[0m in \u001b[0;36mtestDaysBetweenDates\u001b[0;34m()\u001b[0m\n\u001b[1;32m     70\u001b[0m     \u001b[0;31m# test next month\u001b[0m\u001b[0;34m\u001b[0m\u001b[0;34m\u001b[0m\u001b[0;34m\u001b[0m\u001b[0m\n\u001b[1;32m     71\u001b[0m     assert(daysBetweenDates(2019,1,1,\n\u001b[0;32m---> 72\u001b[0;31m                               2019,2,2)  == 32)\n\u001b[0m\u001b[1;32m     73\u001b[0m \u001b[0;34m\u001b[0m\u001b[0m\n\u001b[1;32m     74\u001b[0m     \u001b[0mprint\u001b[0m\u001b[0;34m(\u001b[0m\u001b[0;34m\"Congratulations! Your daysBetweenDates\"\u001b[0m\u001b[0;34m)\u001b[0m\u001b[0;34m\u001b[0m\u001b[0;34m\u001b[0m\u001b[0m\n",
            "\u001b[0;31mAssertionError\u001b[0m: "
          ]
        }
      ]
    }
  ]
}