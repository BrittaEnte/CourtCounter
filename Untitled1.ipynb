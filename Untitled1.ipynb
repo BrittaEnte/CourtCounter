{
  "nbformat": 4,
  "nbformat_minor": 0,
  "metadata": {
    "colab": {
      "name": "Untitled1.ipynb",
      "provenance": [],
      "toc_visible": true,
      "authorship_tag": "ABX9TyMAxGjQFmh7LVLmPl3bu3fu",
      "include_colab_link": true
    },
    "kernelspec": {
      "name": "python3",
      "display_name": "Python 3"
    }
  },
  "cells": [
    {
      "cell_type": "markdown",
      "metadata": {
        "id": "view-in-github",
        "colab_type": "text"
      },
      "source": [
        "<a href=\"https://colab.research.google.com/github/BrittaEnte/CourtCounter/blob/master/Untitled1.ipynb\" target=\"_parent\"><img src=\"https://colab.research.google.com/assets/colab-badge.svg\" alt=\"Open In Colab\"/></a>"
      ]
    },
    {
      "cell_type": "code",
      "metadata": {
        "id": "Ilidd6TTV9ox",
        "colab_type": "code",
        "colab": {
          "base_uri": "https://localhost:8080/",
          "height": 34
        },
        "outputId": "d348baa1-416c-4af0-d93c-85bc62fbc455"
      },
      "source": [
        "print('ich bin eine kleine fette ente')"
      ],
      "execution_count": 1,
      "outputs": [
        {
          "output_type": "stream",
          "text": [
            "ich bin eine kleine fette ente\n"
          ],
          "name": "stdout"
        }
      ]
    },
    {
      "cell_type": "markdown",
      "metadata": {
        "id": "gffwUEuIWD65",
        "colab_type": "text"
      },
      "source": [
        "das ist mal echt nen bisschen langsam. \n",
        "![alt text]![alt text](https://)\n",
        "\n",
        "1.   List item\n",
        "2.   List item\n",
        "\n"
      ]
    },
    {
      "cell_type": "code",
      "metadata": {
        "id": "HSEcHSpJWM9M",
        "colab_type": "code",
        "colab": {}
      },
      "source": [
        ""
      ],
      "execution_count": 0,
      "outputs": []
    },
    {
      "cell_type": "markdown",
      "metadata": {
        "id": "_rsb17VXWP_j",
        "colab_type": "text"
      },
      "source": [
        "# ist das jetzt eine überschrift?\n"
      ]
    },
    {
      "cell_type": "code",
      "metadata": {
        "id": "iYPJYVT6WbXx",
        "colab_type": "code",
        "colab": {
          "base_uri": "https://localhost:8080/",
          "height": 34
        },
        "outputId": "68cfc3a4-6eeb-426b-fc01-64388bde3657"
      },
      "source": [
        "print('zweiter teil ')"
      ],
      "execution_count": 2,
      "outputs": [
        {
          "output_type": "stream",
          "text": [
            "zweiter teil \n"
          ],
          "name": "stdout"
        }
      ]
    },
    {
      "cell_type": "markdown",
      "metadata": {
        "id": "41laXDsXXa93",
        "colab_type": "text"
      },
      "source": [
        "# zweite überschrift?"
      ]
    },
    {
      "cell_type": "code",
      "metadata": {
        "id": "uLIiyPoyXjZJ",
        "colab_type": "code",
        "colab": {}
      },
      "source": [
        "print('dritter teil ')"
      ],
      "execution_count": 0,
      "outputs": []
    },
    {
      "cell_type": "markdown",
      "metadata": {
        "id": "3a96iCr9XnMU",
        "colab_type": "text"
      },
      "source": [
        "das ist ja mal interessant. kann ich auch unterpunkte kreieren?\n"
      ]
    }
  ]
}