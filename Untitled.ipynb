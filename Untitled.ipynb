{
  "nbformat": 4,
  "nbformat_minor": 0,
  "metadata": {
    "colab": {
      "name": "Untitled",
      "private_outputs": true,
      "provenance": [],
      "authorship_tag": "ABX9TyPVuhHbE/H/nQX+3wzw7rfd",
      "include_colab_link": true
    },
    "kernelspec": {
      "name": "python3",
      "display_name": "Python 3"
    },
    "language_info": {
      "name": "python"
    }
  },
  "cells": [
    {
      "cell_type": "markdown",
      "metadata": {
        "id": "view-in-github",
        "colab_type": "text"
      },
      "source": [
        "<a href=\"https://colab.research.google.com/github/BrittaEnte/CourtCounter/blob/master/Untitled.ipynb\" target=\"_parent\"><img src=\"https://colab.research.google.com/assets/colab-badge.svg\" alt=\"Open In Colab\"/></a>"
      ]
    },
    {
      "cell_type": "code",
      "metadata": {
        "id": "GdlLNSTE1usd"
      },
      "source": [
        "import numpy as np\n",
        "# french mathematician\n",
        "\"\"\"\n",
        "A famous French mathematician Pierre Raymond De Montmart, who was known for his\n",
        "work in combinatorics, proposed a simple game called as Game of Thirteen.\n",
        "You have a deck of 13 cards, each numbered from 1 through 13. \n",
        "Shuffle this deck and draw cards one by one. \n",
        "A coincidence is when the number on the card \n",
        "matches the order in which the card is drawn. For instance,\n",
        "if the 5th card you draw happens to be a 5, it's a coincidence. \n",
        "You win the game if you get through all the cards without any coincidences.\n",
        "Let's calculate the probability of winning at this game using simulation.\n",
        "\"\"\"\n",
        "\n",
        "deck, sims, coincidences = np.arange(1,14), 10,0\n",
        "\n",
        "for _ in range (sims):\n",
        "  draw = np.random.choice(deck, size = 13, replace = False)\n",
        "  coincidence = (draw == list(np.arange(1,14))).any()  \n",
        "  if coincidence == True:\n",
        "    coincidences += 1\n",
        "    \n",
        "\n",
        "prob = 1 - coincidences/sims\n",
        "\n",
        "print(f'prob {prob}')\n"
      ],
      "execution_count": null,
      "outputs": []
    },
    {
      "cell_type": "code",
      "metadata": {
        "id": "lbtNj5RzE5Wy"
      },
      "source": [
        "# you got 7 white balls and 6 black balls. you draw 4 times. what is the \n",
        "#probability to get the first ball white, then black and so on?\n",
        "\n",
        "success, sims = 0, 500\n",
        "urn = ['w'] * 7+ ['b'] * 6\n",
        "\n",
        "for _ in range(sims):\n",
        "  draw = np.random.choice(urn, replace = False, size = 4)\n",
        "  if (draw[0] == 'w') & (draw[1] == 'b') & (draw[2] == 'w') & (draw[3] == 'b'):\n",
        "    success += 1\n",
        "\n",
        "print(f'wahrscheinlichkeit {success/sims}')"
      ],
      "execution_count": null,
      "outputs": []
    },
    {
      "cell_type": "code",
      "metadata": {
        "id": "eCQXj9tqHn4a"
      },
      "source": [
        "#altes problem\n",
        "\n",
        "def zero(arr,n):\n",
        "  c = 0\n",
        "  for i in range(n):\n",
        "    if arr[i] != 0:\n",
        "      arr[c] = arr[i]\n",
        "      c += 1\n",
        "\n",
        "  while c < n:\n",
        "    arr[c] = 0\n",
        "    c += 1\n",
        "  print(arr)\n",
        "\n",
        "arr = [0,1,0,2]\n",
        "n = 4\n",
        "\n",
        "zero(arr,n)"
      ],
      "execution_count": null,
      "outputs": []
    },
    {
      "cell_type": "code",
      "metadata": {
        "id": "lOKhUJ38MLpc"
      },
      "source": [
        "# Function which pushes all \n",
        "# zeros to end of an array. \n",
        "def pushZerosToEnd(arr, n): \n",
        "    count = 0 # Count of non-zero elements \n",
        "      \n",
        "    # Traverse the array. If element encountered is non-zero, then \n",
        "    # replace the element at index 'count' with this element\n",
        "     \n",
        "    for i in range(n): \n",
        "        if arr[i] != 0: \n",
        "              \n",
        "            # here count is incremented \n",
        "            arr[count] = arr[i] \n",
        "            count+=1\n",
        "      \n",
        "    # Now all non-zero elements have been shifted to front and 'count is set\n",
        "    # as index of first 0. Make all element 0 from count to end.  \n",
        "    #count += 1\n",
        "    #ansosten ist das ergebnis 1,2,0,2\n",
        "    while count < n: \n",
        "        arr[count] = 0\n",
        "        count += 1\n",
        "        print(arr)\n",
        "\n",
        "arr = [0,1,0,2]\n",
        "n = 4\n",
        "\n",
        "pushZerosToEnd(arr,n)"
      ],
      "execution_count": null,
      "outputs": []
    },
    {
      "cell_type": "code",
      "metadata": {
        "id": "J44E4oOOQM3_"
      },
      "source": [
        "def maxSum(arr, WS):\n",
        "  n = len(arr)\n",
        "  if n <= WS:\n",
        "    return False\n",
        "\n",
        "  ws = sum([arr[i] for i in range(WS)])\n",
        "  max_sum = ws\n",
        "\n",
        "  for i in range(n - WS):\n",
        "    ws = ws - arr[i] + arr[i + WS]\n",
        "    max_sum = max(ws, max_sum)\n",
        "  \n",
        "  return max_sum\n",
        "\n",
        "arr = [1,50,2,4]\n",
        "WS = 2\n",
        "maxSum(arr, WS)\n",
        "\n",
        "  "
      ],
      "execution_count": null,
      "outputs": []
    },
    {
      "cell_type": "code",
      "metadata": {
        "id": "vpo7FItYSats"
      },
      "source": [
        "def maxSum(arr, WS):\n",
        "  n = len(arr)\n",
        "\n",
        "  ws = sum([arr[i]for i in range(WS)])\n",
        "  max_sum = ws\n",
        "\n",
        "  for i in range(n - WS):\n",
        "    ws = ws - arr[i] + arr[i + WS]\n",
        "    max_sum = max(ws, max_sum)\n",
        "\n",
        "  return max_sum\n",
        "\n",
        "arr = [1,50,2,4]\n",
        "WS = 2\n",
        "maxSum(arr, WS)\n"
      ],
      "execution_count": null,
      "outputs": []
    }
  ]
}