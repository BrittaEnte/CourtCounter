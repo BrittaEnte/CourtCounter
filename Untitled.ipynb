{
  "nbformat": 4,
  "nbformat_minor": 0,
  "metadata": {
    "colab": {
      "name": "Untitled",
      "private_outputs": true,
      "provenance": [],
      "authorship_tag": "ABX9TyOnVFCe1HDCrbLFJAj507dY",
      "include_colab_link": true
    },
    "kernelspec": {
      "name": "python3",
      "display_name": "Python 3"
    },
    "language_info": {
      "name": "python"
    }
  },
  "cells": [
    {
      "cell_type": "markdown",
      "metadata": {
        "id": "view-in-github",
        "colab_type": "text"
      },
      "source": [
        "<a href=\"https://colab.research.google.com/github/BrittaEnte/CourtCounter/blob/master/Untitled.ipynb\" target=\"_parent\"><img src=\"https://colab.research.google.com/assets/colab-badge.svg\" alt=\"Open In Colab\"/></a>"
      ]
    },
    {
      "cell_type": "code",
      "metadata": {
        "id": "GdlLNSTE1usd"
      },
      "source": [
        "import numpy as np\n",
        "# french mathematician\n",
        "\"\"\"\n",
        "A famous French mathematician Pierre Raymond De Montmart, who was known for his\n",
        "work in combinatorics, proposed a simple game called as Game of Thirteen.\n",
        "You have a deck of 13 cards, each numbered from 1 through 13. \n",
        "Shuffle this deck and draw cards one by one. \n",
        "A coincidence is when the number on the card \n",
        "matches the order in which the card is drawn. For instance,\n",
        "if the 5th card you draw happens to be a 5, it's a coincidence. \n",
        "You win the game if you get through all the cards without any coincidences.\n",
        "Let's calculate the probability of winning at this game using simulation.\n",
        "\"\"\"\n",
        "\n",
        "deck, sims, coincidences = np.arange(1,14), 10,0\n",
        "\n",
        "for _ in range (sims):\n",
        "  draw = np.random.choice(deck, size = 13, replace = False)\n",
        "  coincidence = (draw == list(np.arange(1,14))).any()  \n",
        "  if coincidence == True:\n",
        "    coincidences += 1\n",
        "    \n",
        "\n",
        "prob = 1 - coincidences/sims\n",
        "\n",
        "print(f'prob {prob}')\n"
      ],
      "execution_count": null,
      "outputs": []
    }
  ]
}