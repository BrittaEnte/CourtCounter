{
  "nbformat": 4,
  "nbformat_minor": 0,
  "metadata": {
    "colab": {
      "name": "Untitled0.ipynb",
      "private_outputs": true,
      "provenance": [],
      "collapsed_sections": [],
      "mount_file_id": "1QG8Zk6eIvwt72C26-hz097zOYeSu3Tdc",
      "authorship_tag": "ABX9TyOpz4zH4NgxnvQ0y2XAvxS4",
      "include_colab_link": true
    },
    "kernelspec": {
      "name": "python3",
      "display_name": "Python 3"
    },
    "language_info": {
      "name": "python"
    }
  },
  "cells": [
    {
      "cell_type": "markdown",
      "metadata": {
        "id": "view-in-github",
        "colab_type": "text"
      },
      "source": [
        "<a href=\"https://colab.research.google.com/github/BrittaEnte/CourtCounter/blob/master/titanic_playground.ipynb\" target=\"_parent\"><img src=\"https://colab.research.google.com/assets/colab-badge.svg\" alt=\"Open In Colab\"/></a>"
      ]
    },
    {
      "cell_type": "markdown",
      "metadata": {
        "id": "IQ7keZDe_GXA"
      },
      "source": [
        "#load the data from drive\n",
        "only goods knows why this is so complicated"
      ]
    },
    {
      "cell_type": "code",
      "metadata": {
        "id": "N8iCPy4tshpz"
      },
      "source": [
        "from google.colab import drive\n",
        "drive.mount('/content/drive')"
      ],
      "execution_count": null,
      "outputs": []
    },
    {
      "cell_type": "markdown",
      "metadata": {
        "id": "dlbl0yGW_NGt"
      },
      "source": [
        "# import all the libaries"
      ]
    },
    {
      "cell_type": "code",
      "metadata": {
        "id": "euwJDiV92SHj"
      },
      "source": [
        "# import all\n",
        "import pandas as pd\n",
        "import numpy as np\n",
        "import plotly as px\n",
        "import seaborn as sns\n",
        "import matplotlib.pyplot as plt"
      ],
      "execution_count": null,
      "outputs": []
    },
    {
      "cell_type": "markdown",
      "metadata": {
        "id": "QapGlgGW_c72"
      },
      "source": [
        "# first glance on the data \n",
        "\n",
        "\n"
      ]
    },
    {
      "cell_type": "code",
      "metadata": {
        "id": "t6JfGTocsmFH"
      },
      "source": [
        "path =('/content/drive/MyDrive/Colab Notebooks/titanic/tested.csv')\n",
        "df = pd.read_csv(path)\n",
        "pd.set_option(\"display.max_columns\", None)\n",
        "print(df.head())\n"
      ],
      "execution_count": null,
      "outputs": []
    },
    {
      "cell_type": "code",
      "metadata": {
        "id": "md7MBz2wzCqR"
      },
      "source": [
        "df.describe()"
      ],
      "execution_count": null,
      "outputs": []
    },
    {
      "cell_type": "code",
      "metadata": {
        "id": "Rxf-ZaPwy0i5"
      },
      "source": [
        "df.info()"
      ],
      "execution_count": null,
      "outputs": []
    },
    {
      "cell_type": "code",
      "metadata": {
        "id": "uUkZtG6ZzmgP"
      },
      "source": [
        "df = df.drop(columns=['SibSp','Parch','Ticket','Fare','Name','Cabin','Embarked'])"
      ],
      "execution_count": null,
      "outputs": []
    },
    {
      "cell_type": "code",
      "metadata": {
        "id": "l_Bc5l1F0OL7"
      },
      "source": [
        "df.head()"
      ],
      "execution_count": null,
      "outputs": []
    },
    {
      "cell_type": "code",
      "metadata": {
        "id": "1N8sYcek02XR"
      },
      "source": [
        "df.describe()"
      ],
      "execution_count": null,
      "outputs": []
    },
    {
      "cell_type": "code",
      "metadata": {
        "id": "GFV14duw04fA"
      },
      "source": [
        "df.info()"
      ],
      "execution_count": null,
      "outputs": []
    },
    {
      "cell_type": "code",
      "metadata": {
        "id": "45PmQMYkBYj0"
      },
      "source": [
        "#change some variables to dtype categorical\n",
        "#df['Survived'] = df.Survived.astype('category')\n",
        "#df['Pclass'] = df.Pclass.astype('category')\n",
        "#df['Sex'] = df.Sex.astype('category')\n"
      ],
      "execution_count": null,
      "outputs": []
    },
    {
      "cell_type": "code",
      "metadata": {
        "id": "ZeaZI71C1c8f"
      },
      "source": [
        "sns.pairplot(df)\n"
      ],
      "execution_count": null,
      "outputs": []
    },
    {
      "cell_type": "markdown",
      "metadata": {
        "id": "QF1U1J_d9SU9"
      },
      "source": [
        "the pairplot does not show much in our case. \n",
        "this is due to the fact that much columns are not continous or discrete data but a category (like sex, survived and pc class). "
      ]
    },
    {
      "cell_type": "markdown",
      "metadata": {
        "id": "GygOc84g-oMX"
      },
      "source": [
        "# let´s check for correlation\n",
        "the big question is to be or not to be... ah, this was a different topic.\n",
        "does the survival rate depends on sex, age and pc class? let´s see"
      ]
    },
    {
      "cell_type": "markdown",
      "metadata": {
        "id": "6mX5GeGh_8wO"
      },
      "source": [
        "## pc class"
      ]
    },
    {
      "cell_type": "code",
      "metadata": {
        "id": "4_kojOZi_Eet"
      },
      "source": [
        "df.Survived.value_counts()"
      ],
      "execution_count": null,
      "outputs": []
    },
    {
      "cell_type": "code",
      "metadata": {
        "id": "3pv82pjlFkUB"
      },
      "source": [
        "c = ['red', 'green']\n",
        "plt = df.Survived.value_counts().plot(kind = 'bar', color = c)\n"
      ],
      "execution_count": null,
      "outputs": []
    },
    {
      "cell_type": "code",
      "metadata": {
        "id": "9ajkODLSHYkB"
      },
      "source": [
        "df[['Sex', 'Age']].groupby('Sex').mean()\n"
      ],
      "execution_count": null,
      "outputs": []
    },
    {
      "cell_type": "code",
      "metadata": {
        "id": "V2AGLW9hIXLx"
      },
      "source": [
        "df.groupby('Sex').mean()"
      ],
      "execution_count": null,
      "outputs": []
    },
    {
      "cell_type": "code",
      "metadata": {
        "id": "5y-W8dHfSmyB"
      },
      "source": [
        "df[['Sex', 'Age', 'Pclass']].groupby(['Sex','Pclass']).mean()"
      ],
      "execution_count": null,
      "outputs": []
    },
    {
      "cell_type": "code",
      "metadata": {
        "id": "-7YKIDI4TdLa"
      },
      "source": [
        "# make a subset called female\n",
        "female = df[df['Sex'] == 'female']\n",
        "female.head()\n"
      ],
      "execution_count": null,
      "outputs": []
    },
    {
      "cell_type": "code",
      "metadata": {
        "id": "NXrWJPIqVyYg"
      },
      "source": [
        "female[['Age', 'Pclass']].groupby('Pclass').mean()\n"
      ],
      "execution_count": null,
      "outputs": []
    },
    {
      "cell_type": "code",
      "metadata": {
        "id": "FtIK6GvYYjEL"
      },
      "source": [
        "c = ['green', 'blue', 'orange']\n",
        "plt = female[['Pclass', 'Age']].groupby('Pclass').mean().plot(kind = 'bar', color = c )\n",
        "plt.set_xlabel('Pclass')\n",
        "plt.set_ylabel('Age')\n"
      ],
      "execution_count": null,
      "outputs": []
    },
    {
      "cell_type": "markdown",
      "metadata": {
        "id": "prgekRny_7pD"
      },
      "source": [
        ""
      ]
    }
  ]
}