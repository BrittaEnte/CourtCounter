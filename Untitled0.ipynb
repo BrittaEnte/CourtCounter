{
  "nbformat": 4,
  "nbformat_minor": 0,
  "metadata": {
    "colab": {
      "name": "Untitled0.ipynb",
      "private_outputs": true,
      "provenance": [],
      "authorship_tag": "ABX9TyOT29xHFkHKWCRZ+20x8snM",
      "include_colab_link": true
    },
    "kernelspec": {
      "name": "python3",
      "display_name": "Python 3"
    },
    "language_info": {
      "name": "python"
    }
  },
  "cells": [
    {
      "cell_type": "markdown",
      "metadata": {
        "id": "view-in-github",
        "colab_type": "text"
      },
      "source": [
        "<a href=\"https://colab.research.google.com/github/BrittaEnte/CourtCounter/blob/master/Untitled0.ipynb\" target=\"_parent\"><img src=\"https://colab.research.google.com/assets/colab-badge.svg\" alt=\"Open In Colab\"/></a>"
      ]
    },
    {
      "cell_type": "code",
      "metadata": {
        "id": "kji3Z0wg7Pjw"
      },
      "source": [
        "import numpy as np\n",
        "\n",
        "deck, sims, zufall = np.arange(1,14), 2,0\n",
        "\n",
        "for i in range(sims):\n",
        "  draw = np.random.choice(deck,size = 13, replace = False)\n",
        "  print(draw)\n",
        "  zufall = (draw == list(np.arange(1,14))).any()\n",
        "  print(f' stelle + {i} und zufall is {zufall}')\n",
        "  if zufall == True:\n",
        "    zufall +=1\n",
        "\n",
        "prob = 1-zufall/sims\n",
        "print(f'zufall + {prob}')"
      ],
      "execution_count": null,
      "outputs": []
    },
    {
      "cell_type": "code",
      "metadata": {
        "id": "YOXo92OSgg8m"
      },
      "source": [
        "a = [1,2,3,4]\n",
        "b = [4,5,6,7]\n",
        "\n",
        "#lena, lenb = len(a), len(b)\n",
        "data = np.concatenate([a,b])\n",
        "print(f'data {data}')\n",
        "\n",
        "perm = np.random.permutation(len(a)+len(b))\n",
        "print(perm)\n",
        "\n",
        "permA = data[perm[:len(a)]]\n",
        "permb = data[perm[len(a):]]\n",
        "\n",
        "print(f'permA {permA} und permb{permb}')"
      ],
      "execution_count": null,
      "outputs": []
    },
    {
      "cell_type": "code",
      "metadata": {
        "id": "FmJOcBg7bGNL"
      },
      "source": [
        "sucess, sims = 0,5000\n",
        "urn = ['w']*7 + ['b']*6\n",
        "\n",
        "for i in range(sims):\n",
        "  draw = np.random.choice(urn, replace=False, size = 4)\n",
        "  print(draw)\n",
        "  if draw[0] =='w'& draw[3] =='w'"
      ],
      "execution_count": null,
      "outputs": []
    },
    {
      "cell_type": "code",
      "metadata": {
        "id": "fHp1Y3z1Akv2"
      },
      "source": [
        "import numpy as np\n",
        "\n",
        "x_values = [1,2,3]\n",
        "y_values = [1,5,25]\n",
        "\n",
        "correlation_matrix = np.corrcoef(x_values, y_values)\n",
        "print(correlation_matrix)\n",
        "correlation_xy = correlation_matrix[0,1]\n",
        "print(correlation_xy)\n",
        "r_squared = correlation_xy**2\n",
        "\n",
        "print(r_squared)\n",
        "#OUTPUT\n",
        "#0.870967741935484\n",
        "\n",
        "\n",
        "from sklearn.metrics import r2_score\n",
        "y =[10, 20, 30]\n",
        "f =[10, 20, 30]\n",
        "r2 = r2_score(y, f)\n",
        "print('r2 score for perfect model is', r2)"
      ],
      "execution_count": null,
      "outputs": []
    },
    {
      "cell_type": "code",
      "metadata": {
        "id": "37A3HaTWDRub"
      },
      "source": [
        "figures = [1,2,3,4,5]\n",
        "size = len(figures)\n",
        "\n",
        "if size % 2 == 0:\n",
        "    low = figures[0:(size//2)]\n",
        "    print(f'low {low}')\n",
        "    high = figures[(size//2):size]\n",
        "    print(f'high {high}')\n",
        "else:\n",
        "    low = figures[0:(size//2)]\n",
        "    high = figures[(size//2)+1:size]\n",
        "\n",
        "\n",
        "def median(size, values):\n",
        "    #funktioniert nicht mit size//2. fehlermeldung. \n",
        "    if size % 2 == 0:\n",
        "        median = (values[int(size/2)-1] + values[int(size/2)]) / 2\n",
        "    else:\n",
        "        median = values[int(size/2)]\n",
        "        # median darf kein int sein. \n",
        "    return (median)\n",
        "\n",
        "\n",
        "print(median(len(low), low))\n",
        "print(median(size, figures))\n",
        "print(median(len(high), high))\n",
        "print (low,high)\n"
      ],
      "execution_count": null,
      "outputs": []
    },
    {
      "cell_type": "code",
      "metadata": {
        "id": "ScsnnbJ6P-gc"
      },
      "source": [
        " # list of elements to calculate median\n",
        "n_num = [1, 2, 3, 4]\n",
        "n = len(n_num)\n",
        "n_num.sort()\n",
        "  \n",
        "if n % 2 == 0:\n",
        "    median1 = n_num[n//2]    \n",
        "    median2 = n_num[n//2 - 1]    \n",
        "    median = (median1 + median2)/2\n",
        "    \n",
        "else:\n",
        "    median = n_num[n//2]\n",
        "print(\"Median is: \" + str(median))\n",
        "print(median1)\n",
        "print(median2)"
      ],
      "execution_count": null,
      "outputs": []
    }
  ]
}