{
  "nbformat": 4,
  "nbformat_minor": 0,
  "metadata": {
    "colab": {
      "name": "Untitled0.ipynb",
      "private_outputs": true,
      "provenance": [],
      "collapsed_sections": [],
      "authorship_tag": "ABX9TyPKeMhAD+j2qoVjbt12bjwO",
      "include_colab_link": true
    },
    "kernelspec": {
      "name": "python3",
      "display_name": "Python 3"
    },
    "language_info": {
      "name": "python"
    }
  },
  "cells": [
    {
      "cell_type": "markdown",
      "metadata": {
        "id": "view-in-github",
        "colab_type": "text"
      },
      "source": [
        "<a href=\"https://colab.research.google.com/github/BrittaEnte/CourtCounter/blob/master/Untitled0.ipynb\" target=\"_parent\"><img src=\"https://colab.research.google.com/assets/colab-badge.svg\" alt=\"Open In Colab\"/></a>"
      ]
    },
    {
      "cell_type": "code",
      "metadata": {
        "id": "kji3Z0wg7Pjw"
      },
      "source": [
        "import numpy as np\n",
        "\n",
        "deck, sims, zufall = np.arange(1,14), 2,0\n",
        "\n",
        "for i in range(sims):\n",
        "  draw = np.random.choice(deck,size = 13, replace = False)\n",
        "  print(draw)\n",
        "  zufall = (draw == list(np.arange(1,14))).any()\n",
        "  print(f' stelle + {i} und zufall is {zufall}')\n",
        "  if zufall == True:\n",
        "    zufall +=1\n",
        "\n",
        "prob = 1-zufall/sims\n",
        "print(f'zufall + {prob}')"
      ],
      "execution_count": null,
      "outputs": []
    },
    {
      "cell_type": "markdown",
      "metadata": {
        "id": "e-7K5oRGH5UQ"
      },
      "source": [
        "dies ist ein test"
      ]
    },
    {
      "cell_type": "code",
      "metadata": {
        "id": "YOXo92OSgg8m"
      },
      "source": [
        "a = [1,2,3,4]\n",
        "b = [4,5,6,7]\n",
        "\n",
        "#lena, lenb = len(a), len(b)\n",
        "data = np.concatenate([a,b])\n",
        "print(f'data {data}')\n",
        "\n",
        "perm = np.random.permutation(len(a)+len(b))\n",
        "print(perm)\n",
        "\n",
        "permA = data[perm[:len(a)]]\n",
        "permb = data[perm[len(a):]]\n",
        "\n",
        "print(f'permA {permA} und permb{permb}')"
      ],
      "execution_count": null,
      "outputs": []
    },
    {
      "cell_type": "code",
      "metadata": {
        "id": "FmJOcBg7bGNL"
      },
      "source": [
        ""
      ],
      "execution_count": null,
      "outputs": []
    },
    {
      "cell_type": "code",
      "metadata": {
        "id": "Kj28NLEQkhAS"
      },
      "source": [
        ""
      ],
      "execution_count": null,
      "outputs": []
    },
    {
      "cell_type": "code",
      "metadata": {
        "id": "fHp1Y3z1Akv2"
      },
      "source": [
        "import numpy as np\n",
        "\n",
        "x_values = [1,2,3]\n",
        "y_values = [1,5,25]\n",
        "\n",
        "correlation_matrix = np.corrcoef(x_values, y_values)\n",
        "print(correlation_matrix)\n",
        "correlation_xy = correlation_matrix[0,1]\n",
        "print(correlation_xy)\n",
        "r_squared = correlation_xy**2\n",
        "\n",
        "print(r_squared)\n",
        "#OUTPUT\n",
        "#0.870967741935484\n",
        "\n",
        "\n",
        "from sklearn.metrics import r2_score\n",
        "y =[10, 20, 30]\n",
        "f =[10, 20, 30]\n",
        "r2 = r2_score(y, f)\n",
        "print('r2 score for perfect model is', r2)"
      ],
      "execution_count": null,
      "outputs": []
    },
    {
      "cell_type": "code",
      "metadata": {
        "id": "37A3HaTWDRub"
      },
      "source": [
        "figures = [1,2,3,4,5]\n",
        "size = len(figures)\n",
        "\n",
        "if size % 2 == 0:\n",
        "    low = figures[0:(size//2)]\n",
        "    print(f'low {low}')\n",
        "    high = figures[(size//2):size]\n",
        "    print(f'high {high}')\n",
        "else:\n",
        "    low = figures[0:(size//2)]\n",
        "    high = figures[(size//2)+1:size]\n",
        "\n",
        "\n",
        "def median(size, values):\n",
        "    #funktioniert nicht mit size//2. fehlermeldung. \n",
        "    if size % 2 == 0:\n",
        "        median = (values[int(size/2)-1] + values[int(size/2)]) / 2\n",
        "    else:\n",
        "        median = values[int(size/2)]\n",
        "        # median darf kein int sein. \n",
        "    return (median)\n",
        "\n",
        "\n",
        "print(median(len(low), low))\n",
        "print(median(size, figures))\n",
        "print(median(len(high), high))\n",
        "print (low,high)\n"
      ],
      "execution_count": null,
      "outputs": []
    },
    {
      "cell_type": "code",
      "metadata": {
        "id": "ScsnnbJ6P-gc"
      },
      "source": [
        " # list of elements to calculate median\n",
        "n_num = [1, 2, 3, 4]\n",
        "n = len(n_num)\n",
        "n_num.sort()\n",
        "  \n",
        "if n % 2 == 0:\n",
        "    median1 = n_num[n//2]    \n",
        "    median2 = n_num[n//2 - 1]    \n",
        "    median = (median1 + median2)/2\n",
        "    \n",
        "else:\n",
        "    median = n_num[n//2]\n",
        "print(\"Median is: \" + str(median))\n",
        "print(median1)\n",
        "print(median2)"
      ],
      "execution_count": null,
      "outputs": []
    },
    {
      "cell_type": "code",
      "metadata": {
        "id": "eE2dE2kDcowf"
      },
      "source": [
        "from numpy.random import seed\n",
        "from numpy.random import randint\n",
        "from numpy import mean\n",
        "from matplotlib import pyplot\n",
        "# seed the random number generator\n",
        "seed(1)\n",
        "# calculate the mean of 50 dice rolls 1000 times\n",
        "means = [mean(randint(1, 7, 100)) for _ in range(1000)]\n",
        "# plot the distribution of sample means\n",
        "pyplot.hist(means)\n",
        "pyplot.show()"
      ],
      "execution_count": null,
      "outputs": []
    },
    {
      "cell_type": "code",
      "metadata": {
        "id": "L4mbwKJhJpe5"
      },
      "source": [
        "#how to make a dataframe\n",
        "\n",
        "import pandas as pd  \n",
        "  \n",
        "# assign data of lists.  \n",
        "data = {'Name': ['Tom', 'Tom', 'Krish', 'John'], 'Age': [20, 20, 19, 18], 'x':[1,2,2,3]}  \n",
        "  \n",
        "# Create DataFrame  \n",
        "df = pd.DataFrame(data)  \n",
        "  \n",
        "print(df)"
      ],
      "execution_count": null,
      "outputs": []
    },
    {
      "cell_type": "code",
      "metadata": {
        "id": "XeNoB5iQKH3L"
      },
      "source": [
        "column_counts = dict()\n",
        "\n",
        "# Traverse through the columns in the heroes DataFrame\n",
        "for column_name, series in df.iteritems():\n",
        "    # Retrieve the values stored in series in a list form\n",
        "    values = list(series)\n",
        "    print ('values', values)\n",
        "    category_counts = dict()  \n",
        "    # Traverse through unique categories in values\n",
        "    for category in set(values):\n",
        "        # Count the appearance of category in values\n",
        "        category_counts[category] = values.count(category)\n",
        "        print(category_counts)\n",
        "       \n",
        "    \n",
        "    column_counts[column_name] = category_counts\n",
        "    \n",
        "print(column_counts)"
      ],
      "execution_count": null,
      "outputs": []
    },
    {
      "cell_type": "code",
      "metadata": {
        "id": "5JoWtTXRMZNL"
      },
      "source": [
        "from scipy.stats import norm\n",
        "import numpy as np\n",
        "import matplotlib.pyplot as plt\n",
        "\n",
        "\n",
        "x= np.arange(-4,4,0.001)\n",
        "plt.plot(x, norm.pdf(x))\n",
        "\n",
        "plt.show()"
      ],
      "execution_count": null,
      "outputs": []
    },
    {
      "cell_type": "code",
      "metadata": {
        "id": "J8LGmgjZIOPn"
      },
      "source": [
        "a = np.arange(1,13)\n",
        "print(a)\n"
      ],
      "execution_count": null,
      "outputs": []
    },
    {
      "cell_type": "code",
      "metadata": {
        "id": "CQr3kzl4IqmR"
      },
      "source": [
        "b = a.reshape(3,4)\n",
        "print(b)\n",
        "c = a.reshape(-1,4)\n",
        "print(c)\n",
        "d = a.reshape(-1,4)\n",
        "print(d)"
      ],
      "execution_count": null,
      "outputs": []
    },
    {
      "cell_type": "code",
      "metadata": {
        "id": "QI0NzXATVUUS"
      },
      "source": [
        " \n",
        " def gcd(a, b):\n",
        "    # Define the while loop as described\n",
        "    while b != 0:\n",
        "        temp_a = a\n",
        "        a = b\n",
        "        b = temp_a % b    \n",
        "    # Complete the return statement\n",
        "    return a\n",
        "\n",
        "print(gcd(10,15))\n",
        "\n",
        "\n",
        "# Create a list of tuples defining pairs of coprime numbers\n",
        "list1 = [1,2,3]\n",
        "list2 = [3,4,5]\n",
        "\n",
        "coprimes = [(i, j) for i in list1 \n",
        "                   for j in list2 if gcd(i, j) == 1]\n",
        "print(coprimes)"
      ],
      "execution_count": null,
      "outputs": []
    },
    {
      "cell_type": "code",
      "metadata": {
        "id": "3QlhvT8M5HT7"
      },
      "source": [
        " # Define a function searching for the longest word\n",
        "def get_longest_word(*words):\n",
        "    longest_word = ''\n",
        "    for word in words:\n",
        "        if len(word) > len(longest_word):\n",
        "            longest_word = word\n",
        "    return longest_word\n",
        "\n",
        "get_longest_word('ente', 'rindvieh')"
      ],
      "execution_count": null,
      "outputs": []
    },
    {
      "cell_type": "code",
      "metadata": {
        "id": "oBDmXB688dbv"
      },
      "source": [
        "def retrieve_character_indices(string):\n",
        "    character_indices = dict()\n",
        "    # Define the 'for' loop\n",
        "    for index, character in enumerate(string):\n",
        "        # Update the dictionary if the key already exists\n",
        "        if character in character_indices:\n",
        "            character_indices[character].append(index)\n",
        "        # Update the dictionary if the key is absent\n",
        "        else:\n",
        "            character_indices[character] = [index]\n",
        "            \n",
        "    return character_indices\n",
        "  \n",
        "print(retrieve_character_indices('ente'))\n",
        "\n",
        "#nur fürs hub "
      ],
      "execution_count": null,
      "outputs": []
    },
    {
      "cell_type": "code",
      "metadata": {
        "id": "TPIVphP5kjYt"
      },
      "source": [
        "# der import wird nur gebraucht, wenn ich nicht auf leetcode arbeite\n",
        "from typing import List\n",
        "\n",
        "\n",
        "class Solution:\n",
        "    def numRescueBoats(self, people: List[int], limit: int) -> int:\n",
        "        people.sort()\n",
        "\n",
        "        left = 0\n",
        "        right = len(people)-1\n",
        "\n",
        "        boats_number = 0\n",
        "\n",
        "        while(left<=right):\n",
        "            if(left==right):\n",
        "                boats_number+=1\n",
        "                break\n",
        "            if(people[left]+people[right]<=limit):\n",
        "                left+=1\n",
        "\n",
        "            right-=1\n",
        "            boats_number+=1\n",
        "        return boats_number\n",
        "   \n",
        "# set an instance\n",
        "s = Solution()\n",
        "a = s.numRescueBoats([2,1,2],2)\n",
        "print (a)\n",
        "# wieso ist das comment oben rot?"
      ],
      "execution_count": null,
      "outputs": []
    }
  ]
}