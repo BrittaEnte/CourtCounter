{
  "nbformat": 4,
  "nbformat_minor": 0,
  "metadata": {
    "colab": {
      "name": "listen.ipynb",
      "provenance": [],
      "collapsed_sections": [],
      "toc_visible": true,
      "authorship_tag": "ABX9TyNK4MxXMXHjsHtc8PJmyZf6",
      "include_colab_link": true
    },
    "kernelspec": {
      "name": "python3",
      "display_name": "Python 3"
    },
    "accelerator": "GPU"
  },
  "cells": [
    {
      "cell_type": "markdown",
      "metadata": {
        "id": "view-in-github",
        "colab_type": "text"
      },
      "source": [
        "<a href=\"https://colab.research.google.com/github/BrittaEnte/CourtCounter/blob/master/listen.ipynb\" target=\"_parent\"><img src=\"https://colab.research.google.com/assets/colab-badge.svg\" alt=\"Open In Colab\"/></a>"
      ]
    },
    {
      "cell_type": "markdown",
      "metadata": {
        "id": "ag1e6rqUub_u",
        "colab_type": "text"
      },
      "source": [
        "#Liste"
      ]
    },
    {
      "cell_type": "markdown",
      "metadata": {
        "id": "pvKJk1UstBmz",
        "colab_type": "text"
      },
      "source": [
        "##was ist eine liste?"
      ]
    },
    {
      "cell_type": "markdown",
      "metadata": {
        "id": "XX7LxRbEtE1t",
        "colab_type": "text"
      },
      "source": [
        "Lists are one of the four built-in data structures in Python, together with tuples, dictionaries, and sets. They are used to store an ordered collection of items, which might be of different types but usually they aren’t"
      ]
    },
    {
      "cell_type": "code",
      "metadata": {
        "id": "iEYy9vJjstrb",
        "colab_type": "code",
        "colab": {}
      },
      "source": [
        "# These list elements are all of the same type\n",
        "zoo = ['bear', 'lion', 'panda', 'zebra']\n",
        "print(zoo)\n",
        "\n",
        "# But these list elements are not\n",
        "biggerZoo = ['bear', 'lion', 'panda', 'zebra', ['chimpanzees', 'gorillas', 'orangutans', 'gibbons']]\n",
        "print(biggerZoo)"
      ],
      "execution_count": null,
      "outputs": []
    },
    {
      "cell_type": "markdown",
      "metadata": {
        "id": "LaOqeZmduH08",
        "colab_type": "text"
      },
      "source": [
        "##was ist der unterschied zwischen tuples und lists?\n",
        "tuples können nicht geändert werden, also kein extend, pop, append, remove "
      ]
    },
    {
      "cell_type": "markdown",
      "metadata": {
        "id": "bpxYigL2vVxE",
        "colab_type": "text"
      },
      "source": [
        "##Lists Versus Dictionaries\n",
        "A list stores an ordered collection of items, so it keeps some order. Dictionaries don’t have any order."
      ]
    },
    {
      "cell_type": "markdown",
      "metadata": {
        "id": "uiikuwLmvYNe",
        "colab_type": "text"
      },
      "source": [
        "##Lists Versus Sets\n",
        "Just like dictionaries, sets have no order in their collection of items. Not like lists.\n",
        "Set requires the items contained in it to be hashable, lists store non-hashable items.\n",
        "Sets require your items to be unique and immutable. Duplicates are not allowed in sets, while lists allow for duplicates and are mutable."
      ]
    },
    {
      "cell_type": "markdown",
      "metadata": {
        "id": "SQXKNSirv6zi",
        "colab_type": "text"
      },
      "source": [
        "##hashable\n",
        "In Python, any immutable object (such as an integer, boolean, string, tuple) is hashable, meaning its value does not change during its lifetime. This allows Python to create a unique hash value to identify it, which can be used by dictionaries to track unique keys and sets to track unique values."
      ]
    },
    {
      "cell_type": "markdown",
      "metadata": {
        "id": "-EdOtNXcv95W",
        "colab_type": "text"
      },
      "source": [
        "<img src=”<img src=”https://drive.google.com/file/d/1nxHEiGrZpS7gXnXt__qBVCh9N0d2QYD9/view?usp=sharing” width=”100\">” width=”100\">\n"
      ]
    },
    {
      "cell_type": "markdown",
      "metadata": {
        "id": "8rndELddzwt9",
        "colab_type": "text"
      },
      "source": [
        "## select one element from list\n",
        "-1 für das letze element etc"
      ]
    },
    {
      "cell_type": "code",
      "metadata": {
        "id": "eM4FNsBltA1B",
        "colab_type": "code",
        "colab": {}
      },
      "source": [
        "# Select the first list element\n",
        "oneZooAnimal = biggerZoo[0]\n",
        "\n",
        "# Print `oneZooAnimal`\n",
        "print(oneZooAnimal)\n"
      ],
      "execution_count": null,
      "outputs": []
    },
    {
      "cell_type": "markdown",
      "metadata": {
        "id": "K0JS8f2d1B1v",
        "colab_type": "text"
      },
      "source": [
        "##slice notation \n"
      ]
    },
    {
      "cell_type": "code",
      "metadata": {
        "id": "MzfTc7ox1Hle",
        "colab_type": "code",
        "colab": {
          "base_uri": "https://localhost:8080/",
          "height": 85
        },
        "outputId": "43661dd2-985c-4724-ad39-97b69d66593b"
      },
      "source": [
        "c = [0,1,2,3,4,5,6,7,8,9,10]\n",
        "print (c[1:5])\n",
        "print(c[0:])\n",
        "print(c[:8])\n",
        "print(c[:])"
      ],
      "execution_count": null,
      "outputs": [
        {
          "output_type": "stream",
          "text": [
            "[1, 2, 3, 4]\n",
            "[0, 1, 2, 3, 4, 5, 6, 7, 8, 9, 10]\n",
            "[0, 1, 2, 3, 4, 5, 6, 7]\n",
            "[0, 1, 2, 3, 4, 5, 6, 7, 8, 9, 10]\n"
          ],
          "name": "stdout"
        }
      ]
    },
    {
      "cell_type": "code",
      "metadata": {
        "id": "5gr4GKSQ4vcN",
        "colab_type": "code",
        "colab": {
          "base_uri": "https://localhost:8080/",
          "height": 102
        },
        "outputId": "4b1a9614-e2dc-42b3-b67c-00a8cad6c2cc"
      },
      "source": [
        "print(c[0::10])\n",
        "print(c[0:10:2])\n",
        "print(c[2::1])\n",
        "print(c[3::5])\n",
        "print(c[5::-1])"
      ],
      "execution_count": null,
      "outputs": [
        {
          "output_type": "stream",
          "text": [
            "[0, 10]\n",
            "[0, 2, 4, 6, 8]\n",
            "[2, 3, 4, 5, 6, 7, 8, 9, 10]\n",
            "[3, 8]\n",
            "[5, 4, 3, 2, 1, 0]\n"
          ],
          "name": "stdout"
        }
      ]
    },
    {
      "cell_type": "markdown",
      "metadata": {
        "id": "L6at8Yf553_K",
        "colab_type": "text"
      },
      "source": [
        "##convert a list into a string"
      ]
    },
    {
      "cell_type": "code",
      "metadata": {
        "id": "X9tdeR0t6EPw",
        "colab_type": "code",
        "colab": {
          "base_uri": "https://localhost:8080/",
          "height": 51
        },
        "outputId": "5b104cd6-fb23-428d-be3c-c62a162a8058"
      },
      "source": [
        "# List of Strings to a String\n",
        "listOfStrings = ['One', 'Two', 'Three']\n",
        "strOfStrings = ''.join(listOfStrings)\n",
        "print(strOfStrings)\n",
        "\n",
        "# List Of Integers to a String\n",
        "listOfNumbers = [1, 2, 3]\n",
        "strOfNumbers = ''.join(str(n) for n in listOfNumbers)\n",
        "print(strOfNumbers)"
      ],
      "execution_count": null,
      "outputs": [
        {
          "output_type": "stream",
          "text": [
            "OneTwoThree\n",
            "123\n"
          ],
          "name": "stdout"
        }
      ]
    },
    {
      "cell_type": "markdown",
      "metadata": {
        "id": "idul8c3A6Y8U",
        "colab_type": "text"
      },
      "source": [
        "convert a list into a tuple of a set"
      ]
    },
    {
      "cell_type": "code",
      "metadata": {
        "id": "kRktAnWv6b-l",
        "colab_type": "code",
        "colab": {
          "base_uri": "https://localhost:8080/",
          "height": 34
        },
        "outputId": "d4dc130c-35a9-4b99-9dbf-86a21860f5fe"
      },
      "source": [
        "# Pass your list to `tuple()`\n",
        "tuple(listOfStrings)\n",
        "\n",
        "# Transform your list into a set\n",
        "set(listOfStrings)"
      ],
      "execution_count": null,
      "outputs": [
        {
          "output_type": "execute_result",
          "data": {
            "text/plain": [
              "{'One', 'Three', 'Two'}"
            ]
          },
          "metadata": {
            "tags": []
          },
          "execution_count": 11
        }
      ]
    },
    {
      "cell_type": "markdown",
      "metadata": {
        "id": "Yepag4g47-tJ",
        "colab_type": "text"
      },
      "source": [
        "## convert a list into a dictionary"
      ]
    },
    {
      "cell_type": "code",
      "metadata": {
        "id": "jMENyJYH8CPy",
        "colab_type": "code",
        "colab": {
          "base_uri": "https://localhost:8080/",
          "height": 34
        },
        "outputId": "c86a257d-3976-4b56-ab96-cc7f6202e54d"
      },
      "source": [
        "a = ['bi','double','duo','two']\n",
        "dict((k,2) for k in a)"
      ],
      "execution_count": null,
      "outputs": [
        {
          "output_type": "execute_result",
          "data": {
            "text/plain": [
              "{'bi': 2, 'double': 2, 'duo': 2, 'two': 2}"
            ]
          },
          "metadata": {
            "tags": []
          },
          "execution_count": 13
        }
      ]
    },
    {
      "cell_type": "code",
      "metadata": {
        "id": "S-tL5F_r8KjS",
        "colab_type": "code",
        "colab": {
          "base_uri": "https://localhost:8080/",
          "height": 34
        },
        "outputId": "fa92f4fc-2b81-4278-bcac-67fcf608411f"
      },
      "source": [
        "a = ['bi','double','duo','two']\n",
        "b = dict(zip(a[::2], a[1::2]))\n",
        "print (b)"
      ],
      "execution_count": null,
      "outputs": [
        {
          "output_type": "stream",
          "text": [
            "{'bi': 'double', 'duo': 'two'}\n"
          ],
          "name": "stdout"
        }
      ]
    },
    {
      "cell_type": "markdown",
      "metadata": {
        "id": "PYTCNcbn84Wh",
        "colab_type": "text"
      },
      "source": [
        "## Difference Between append() and extend()?"
      ]
    },
    {
      "cell_type": "code",
      "metadata": {
        "id": "BIBw_chp-Hr_",
        "colab_type": "code",
        "colab": {
          "base_uri": "https://localhost:8080/",
          "height": 34
        },
        "outputId": "26086f15-0aba-41ea-c857-6d91ef20945c"
      },
      "source": [
        "my_list = ['foo', 'bar']\n",
        "another_list = [1, 2, 3]\n",
        "my_list.extend(another_list)\n",
        "my_list\n"
      ],
      "execution_count": null,
      "outputs": [
        {
          "output_type": "execute_result",
          "data": {
            "text/plain": [
              "['foo', 'bar', 1, 2, 3]"
            ]
          },
          "metadata": {
            "tags": []
          },
          "execution_count": 17
        }
      ]
    },
    {
      "cell_type": "code",
      "metadata": {
        "id": "rYmLtGhF-S7y",
        "colab_type": "code",
        "colab": {
          "base_uri": "https://localhost:8080/",
          "height": 34
        },
        "outputId": "55b42ed6-02f3-44e1-e9ed-0a9f9191c74b"
      },
      "source": [
        "my_list = ['foo', 'bar']\n",
        "another_list = [1, 2, 3]\n",
        "my_list.append(another_list)\n",
        "my_list\n"
      ],
      "execution_count": null,
      "outputs": [
        {
          "output_type": "execute_result",
          "data": {
            "text/plain": [
              "['foo', 'bar', [1, 2, 3]]"
            ]
          },
          "metadata": {
            "tags": []
          },
          "execution_count": 18
        }
      ]
    },
    {
      "cell_type": "markdown",
      "metadata": {
        "id": "vPvs1uiAAPxT",
        "colab_type": "text"
      },
      "source": [
        "##sorted and sort"
      ]
    },
    {
      "cell_type": "code",
      "metadata": {
        "id": "lOInkgX5ATfP",
        "colab_type": "code",
        "colab": {
          "base_uri": "https://localhost:8080/",
          "height": 51
        },
        "outputId": "ba47bcfc-b8c8-44ac-af39-47f29c75dec0"
      },
      "source": [
        "liste =[9,5,8,4]\n",
        "print(sorted(liste))\n",
        "print (liste)"
      ],
      "execution_count": null,
      "outputs": [
        {
          "output_type": "stream",
          "text": [
            "[4, 5, 8, 9]\n",
            "[9, 5, 8, 4]\n"
          ],
          "name": "stdout"
        }
      ]
    },
    {
      "cell_type": "code",
      "metadata": {
        "id": "o5wAqtK1AbLh",
        "colab_type": "code",
        "colab": {
          "base_uri": "https://localhost:8080/",
          "height": 51
        },
        "outputId": "f2574b7a-e7ec-4f7d-ce67-f47ce0b5931c"
      },
      "source": [
        "liste = [9,5,8,4]\n",
        "print(liste.sort())\n",
        "print (liste)"
      ],
      "execution_count": null,
      "outputs": [
        {
          "output_type": "stream",
          "text": [
            "None\n",
            "[4, 5, 8, 9]\n"
          ],
          "name": "stdout"
        }
      ]
    },
    {
      "cell_type": "markdown",
      "metadata": {
        "id": "Pf6MOYt2BKg3",
        "colab_type": "text"
      },
      "source": [
        "##how to copy a list"
      ]
    },
    {
      "cell_type": "code",
      "metadata": {
        "id": "yDRHw5oGBNRQ",
        "colab_type": "code",
        "colab": {
          "base_uri": "https://localhost:8080/",
          "height": 181
        },
        "outputId": "f5a70c9f-0508-4d11-c709-db2b2bbc1f4e"
      },
      "source": [
        "ente = [1,2,3,4,5]\n",
        "hund = list(ente)"
      ],
      "execution_count": null,
      "outputs": [
        {
          "output_type": "error",
          "ename": "TypeError",
          "evalue": "ignored",
          "traceback": [
            "\u001b[0;31m---------------------------------------------------------------------------\u001b[0m",
            "\u001b[0;31mTypeError\u001b[0m                                 Traceback (most recent call last)",
            "\u001b[0;32m<ipython-input-37-6c8dfc764954>\u001b[0m in \u001b[0;36m<module>\u001b[0;34m()\u001b[0m\n\u001b[1;32m      1\u001b[0m \u001b[0mente\u001b[0m \u001b[0;34m=\u001b[0m \u001b[0;34m[\u001b[0m\u001b[0;36m1\u001b[0m\u001b[0;34m,\u001b[0m\u001b[0;36m2\u001b[0m\u001b[0;34m,\u001b[0m\u001b[0;36m3\u001b[0m\u001b[0;34m,\u001b[0m\u001b[0;36m4\u001b[0m\u001b[0;34m,\u001b[0m\u001b[0;36m5\u001b[0m\u001b[0;34m]\u001b[0m\u001b[0;34m\u001b[0m\u001b[0;34m\u001b[0m\u001b[0m\n\u001b[0;32m----> 2\u001b[0;31m \u001b[0mhund\u001b[0m \u001b[0;34m=\u001b[0m \u001b[0mlist\u001b[0m\u001b[0;34m(\u001b[0m\u001b[0mente\u001b[0m\u001b[0;34m)\u001b[0m\u001b[0;34m\u001b[0m\u001b[0;34m\u001b[0m\u001b[0m\n\u001b[0m",
            "\u001b[0;31mTypeError\u001b[0m: 'list' object is not callable"
          ]
        }
      ]
    },
    {
      "cell_type": "code",
      "metadata": {
        "id": "F-2cma9QBe44",
        "colab_type": "code",
        "colab": {
          "base_uri": "https://localhost:8080/",
          "height": 34
        },
        "outputId": "773cdff9-a958-4b58-b1a4-1300f3854ae2"
      },
      "source": [
        "b = [1,2,3,4,5]\n",
        "newList = b[:]\n",
        "print (newList)"
      ],
      "execution_count": null,
      "outputs": [
        {
          "output_type": "stream",
          "text": [
            "[1, 2, 3, 4, 5]\n"
          ],
          "name": "stdout"
        }
      ]
    },
    {
      "cell_type": "markdown",
      "metadata": {
        "id": "MlRfpDmQDeP4",
        "colab_type": "text"
      },
      "source": [
        "## count() method"
      ]
    },
    {
      "cell_type": "code",
      "metadata": {
        "id": "9RUw5xC_DtHg",
        "colab_type": "code",
        "colab": {
          "base_uri": "https://localhost:8080/",
          "height": 51
        },
        "outputId": "9a5360cf-1cb4-4f5c-9230-4c67d6fb81ac"
      },
      "source": [
        "# Count the occurrences of the number 4\n",
        "print([1, 2, 9, 4, 5, 4, 1].count(4))\n",
        "\n",
        "# Count the occurrences of the letter \"a\"\n",
        "list = [\"d\", \"a\", \"t\", \"a\", \"c\", \"a\", \"m\", \"p\"]\n",
        "list.count(\"a\")"
      ],
      "execution_count": null,
      "outputs": [
        {
          "output_type": "stream",
          "text": [
            "2\n"
          ],
          "name": "stdout"
        },
        {
          "output_type": "execute_result",
          "data": {
            "text/plain": [
              "3"
            ]
          },
          "metadata": {
            "tags": []
          },
          "execution_count": 38
        }
      ]
    },
    {
      "cell_type": "code",
      "metadata": {
        "id": "q0jBuCJeD2xI",
        "colab_type": "code",
        "colab": {
          "base_uri": "https://localhost:8080/",
          "height": 34
        },
        "outputId": "bdb5509f-cdb9-48ed-d9d9-81f8cda1a2bd"
      },
      "source": [
        "list= [\"a\",\"b\",\"b\"]\n",
        "[[x,list.count(x)] for x in set(list)]"
      ],
      "execution_count": null,
      "outputs": [
        {
          "output_type": "execute_result",
          "data": {
            "text/plain": [
              "[['b', 2], ['a', 1]]"
            ]
          },
          "metadata": {
            "tags": []
          },
          "execution_count": 39
        }
      ]
    },
    {
      "cell_type": "markdown",
      "metadata": {
        "id": "QY1ZSvh8ErLm",
        "colab_type": "text"
      },
      "source": [
        "##what is a iter\n",
        "The iter() function returns an iterator object."
      ]
    },
    {
      "cell_type": "code",
      "metadata": {
        "id": "sgYEHKqZEuLW",
        "colab_type": "code",
        "colab": {
          "base_uri": "https://localhost:8080/",
          "height": 68
        },
        "outputId": "7ecb526c-c4ab-48f2-b3bb-979262732ec6"
      },
      "source": [
        "x = iter([\"apple\", \"banana\", \"cherry\"])\n",
        "print(next(x))\n",
        "print(next(x))\n",
        "print(next(x))"
      ],
      "execution_count": null,
      "outputs": [
        {
          "output_type": "stream",
          "text": [
            "apple\n",
            "banana\n",
            "cherry\n"
          ],
          "name": "stdout"
        }
      ]
    },
    {
      "cell_type": "markdown",
      "metadata": {
        "id": "fYzR1I7YE-Kg",
        "colab_type": "text"
      },
      "source": [
        "##How To Split A Python List Into Evenly Sized Chunks\n"
      ]
    },
    {
      "cell_type": "code",
      "metadata": {
        "id": "9tN16qBdFDvm",
        "colab_type": "code",
        "colab": {
          "base_uri": "https://localhost:8080/",
          "height": 198
        },
        "outputId": "46e67000-65de-473f-8231-cdfc83706fc5"
      },
      "source": [
        "# Your list `x`\n",
        "x = [1,2,3,4,5,6,7,8,9]\n",
        "\n",
        "# Split `x` up in chunks of 3\n",
        "y = zip(*[iter(x)]*3)\n",
        "\n",
        "# Use `list()` to print the result of `zip()`\n",
        "list(y)"
      ],
      "execution_count": null,
      "outputs": [
        {
          "output_type": "error",
          "ename": "TypeError",
          "evalue": "ignored",
          "traceback": [
            "\u001b[0;31m---------------------------------------------------------------------------\u001b[0m",
            "\u001b[0;31mTypeError\u001b[0m                                 Traceback (most recent call last)",
            "\u001b[0;32m<ipython-input-41-e1a66d639fba>\u001b[0m in \u001b[0;36m<module>\u001b[0;34m()\u001b[0m\n\u001b[1;32m      6\u001b[0m \u001b[0;34m\u001b[0m\u001b[0m\n\u001b[1;32m      7\u001b[0m \u001b[0;31m# Use `list()` to print the result of `zip()`\u001b[0m\u001b[0;34m\u001b[0m\u001b[0;34m\u001b[0m\u001b[0;34m\u001b[0m\u001b[0m\n\u001b[0;32m----> 8\u001b[0;31m \u001b[0mlist\u001b[0m\u001b[0;34m(\u001b[0m\u001b[0my\u001b[0m\u001b[0;34m)\u001b[0m\u001b[0;34m\u001b[0m\u001b[0;34m\u001b[0m\u001b[0m\n\u001b[0m",
            "\u001b[0;31mTypeError\u001b[0m: 'list' object is not callable"
          ]
        }
      ]
    }
  ]
}