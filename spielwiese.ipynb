{
 "cells": [
  {
   "cell_type": "code",
   "execution_count": 1,
   "id": "01a59d0c-0e05-456f-a943-7ecd1cf1e442",
   "metadata": {},
   "outputs": [
    {
     "name": "stdout",
     "output_type": "stream",
     "text": [
      "[ 1  4  9 10  8 11  3 12  6  2 13  7  5]\n",
      " stelle + 0 und zufall is True\n",
      "[ 2  3  8  7 10  6 13  9 12 11  4  5  1]\n",
      " stelle + 1 und zufall is True\n",
      "zufall + 0.0\n"
     ]
    }
   ],
   "source": [
    "import numpy as np\n",
    "\n",
    "deck, sims, zufall = np.arange(1,14), 2,0\n",
    "\n",
    "for i in range(sims):\n",
    "  draw = np.random.choice(deck,size = 13, replace = False)\n",
    "  print(draw)\n",
    "  zufall = (draw == list(np.arange(1,14))).any()\n",
    "  print(f' stelle + {i} und zufall is {zufall}')\n",
    "  if zufall == True:\n",
    "    zufall +=1\n",
    "\n",
    "prob = 1-zufall/sims\n",
    "print(f'zufall + {prob}')"
   ]
  },
  {
   "cell_type": "code",
   "execution_count": 2,
   "id": "49dde193-5489-48e4-9635-558915ba976b",
   "metadata": {},
   "outputs": [
    {
     "name": "stdout",
     "output_type": "stream",
     "text": [
      "data [1 2 3 4 4 5 6 7]\n",
      "[6 4 1 2 0 5 7 3]\n",
      "permA [6 4 2 3] und permb[1 5 7 4]\n"
     ]
    }
   ],
   "source": [
    "a = [1,2,3,4]\n",
    "b = [4,5,6,7]\n",
    "\n",
    "#lena, lenb = len(a), len(b)\n",
    "data = np.concatenate([a,b])\n",
    "print(f'data {data}')\n",
    "\n",
    "perm = np.random.permutation(len(a)+len(b))\n",
    "print(perm)\n",
    "\n",
    "permA = data[perm[:len(a)]]\n",
    "permb = data[perm[len(a):]]\n",
    "\n",
    "print(f'permA {permA} und permb{permb}')"
   ]
  },
  {
   "cell_type": "code",
   "execution_count": 3,
   "id": "865454f6-de52-4039-9347-8fa47d69debe",
   "metadata": {},
   "outputs": [
    {
     "name": "stdout",
     "output_type": "stream",
     "text": [
      "[[1.         0.93325653]\n",
      " [0.93325653 1.        ]]\n",
      "0.9332565252573827\n",
      "0.8709677419354838\n",
      "r2 score for perfect model is 1.0\n"
     ]
    }
   ],
   "source": [
    "\n",
    "import numpy as np\n",
    "\n",
    "x_values = [1,2,3]\n",
    "y_values = [1,5,25]\n",
    "\n",
    "correlation_matrix = np.corrcoef(x_values, y_values)\n",
    "print(correlation_matrix)\n",
    "correlation_xy = correlation_matrix[0,1]\n",
    "print(correlation_xy)\n",
    "r_squared = correlation_xy**2\n",
    "\n",
    "print(r_squared)\n",
    "#OUTPUT\n",
    "#0.870967741935484\n",
    "\n",
    "\n",
    "from sklearn.metrics import r2_score\n",
    "y =[10, 20, 30]\n",
    "f =[10, 20, 30]\n",
    "r2 = r2_score(y, f)\n",
    "print('r2 score for perfect model is', r2)"
   ]
  },
  {
   "cell_type": "code",
   "execution_count": 4,
   "id": "3f3cab61-a4c4-4bcf-a5fa-70bceaef4080",
   "metadata": {},
   "outputs": [
    {
     "name": "stdout",
     "output_type": "stream",
     "text": [
      "1.5\n",
      "3\n",
      "4.5\n",
      "[1, 2] [4, 5]\n"
     ]
    }
   ],
   "source": [
    "figures = [1,2,3,4,5]\n",
    "size = len(figures)\n",
    "\n",
    "if size % 2 == 0:\n",
    "    low = figures[0:(size//2)]\n",
    "    print(f'low {low}')\n",
    "    high = figures[(size//2):size]\n",
    "    print(f'high {high}')\n",
    "else:\n",
    "    low = figures[0:(size//2)]\n",
    "    high = figures[(size//2)+1:size]\n",
    "\n",
    "\n",
    "def median(size, values):\n",
    "    #funktioniert nicht mit size//2. fehlermeldung. \n",
    "    if size % 2 == 0:\n",
    "        median = (values[int(size/2)-1] + values[int(size/2)]) / 2\n",
    "    else:\n",
    "        median = values[int(size/2)]\n",
    "        # median darf kein int sein. \n",
    "    return (median)\n",
    "\n",
    "\n",
    "print(median(len(low), low))\n",
    "print(median(size, figures))\n",
    "print(median(len(high), high))\n",
    "print (low,high)"
   ]
  },
  {
   "cell_type": "code",
   "execution_count": 5,
   "id": "a54f610b-21f3-4880-8e83-0916360b2f91",
   "metadata": {},
   "outputs": [
    {
     "name": "stdout",
     "output_type": "stream",
     "text": [
      "Median is: 2.5\n",
      "3\n",
      "2\n"
     ]
    }
   ],
   "source": [
    "# list of elements to calculate median\n",
    "n_num = [1, 2, 3, 4]\n",
    "n = len(n_num)\n",
    "n_num.sort()\n",
    "  \n",
    "if n % 2 == 0:\n",
    "    median1 = n_num[n//2]    \n",
    "    median2 = n_num[n//2 - 1]    \n",
    "    median = (median1 + median2)/2\n",
    "    \n",
    "else:\n",
    "    median = n_num[n//2]\n",
    "print(\"Median is: \" + str(median))\n",
    "print(median1)\n",
    "print(median2)"
   ]
  },
  {
   "cell_type": "code",
   "execution_count": 6,
   "id": "209ce2c4-8d8e-45b6-855a-4626ea46cc4c",
   "metadata": {},
   "outputs": [
    {
     "data": {
      "image/png": "[encoded data removed]",
      "text/plain": [
       "<Figure size 432x288 with 1 Axes>"
      ]
     },
     "metadata": {
      "needs_background": "light"
     },
     "output_type": "display_data"
    }
   ],
   "source": [
    "from numpy.random import seed\n",
    "from numpy.random import randint\n",
    "from numpy import mean\n",
    "from matplotlib import pyplot\n",
    "# seed the random number generator\n",
    "seed(1)\n",
    "# calculate the mean of 50 dice rolls 1000 times\n",
    "means = [mean(randint(1, 7, 100)) for _ in range(1000)]\n",
    "# plot the distribution of sample means\n",
    "pyplot.hist(means)\n",
    "pyplot.show()"
   ]
  },
  {
   "cell_type": "code",
   "execution_count": 7,
   "id": "c6c640d5-546a-442b-a130-e0bf295b7823",
   "metadata": {},
   "outputs": [
    {
     "name": "stdout",
     "output_type": "stream",
     "text": [
      "    Name  Age  x\n",
      "0    Tom   20  1\n",
      "1    Tom   20  2\n",
      "2  Krish   19  2\n",
      "3   John   18  3\n"
     ]
    }
   ],
   "source": [
    "#how to make a dataframe\n",
    "\n",
    "import pandas as pd  \n",
    "  \n",
    "# assign data of lists.  \n",
    "data = {'Name': ['Tom', 'Tom', 'Krish', 'John'], 'Age': [20, 20, 19, 18], 'x':[1,2,2,3]}  \n",
    "  \n",
    "# Create DataFrame  \n",
    "df = pd.DataFrame(data)  \n",
    "  \n",
    "print(df)"
   ]
  },
  {
   "cell_type": "code",
   "execution_count": 8,
   "id": "5b86365f-1364-4a7c-b7af-542046529ec0",
   "metadata": {},
   "outputs": [
    {
     "name": "stdout",
     "output_type": "stream",
     "text": [
      "values ['Tom', 'Tom', 'Krish', 'John']\n",
      "{'Tom': 2}\n",
      "{'Tom': 2, 'Krish': 1}\n",
      "{'Tom': 2, 'Krish': 1, 'John': 1}\n",
      "values [20, 20, 19, 18]\n",
      "{18: 1}\n",
      "{18: 1, 19: 1}\n",
      "{18: 1, 19: 1, 20: 2}\n",
      "values [1, 2, 2, 3]\n",
      "{1: 1}\n",
      "{1: 1, 2: 2}\n",
      "{1: 1, 2: 2, 3: 1}\n",
      "{'Name': {'Tom': 2, 'Krish': 1, 'John': 1}, 'Age': {18: 1, 19: 1, 20: 2}, 'x': {1: 1, 2: 2, 3: 1}}\n"
     ]
    }
   ],
   "source": [
    "column_counts = dict()\n",
    "\n",
    "# Traverse through the columns in the heroes DataFrame\n",
    "for column_name, series in df.iteritems():\n",
    "    # Retrieve the values stored in series in a list form\n",
    "    values = list(series)\n",
    "    print ('values', values)\n",
    "    category_counts = dict()  \n",
    "    # Traverse through unique categories in values\n",
    "    for category in set(values):\n",
    "        # Count the appearance of category in values\n",
    "        category_counts[category] = values.count(category)\n",
    "        print(category_counts)\n",
    "       \n",
    "    \n",
    "    column_counts[column_name] = category_counts\n",
    "    \n",
    "print(column_counts)"
   ]
  },
  {
   "cell_type": "code",
   "execution_count": 9,
   "id": "e820b12b-ac96-4734-9f7d-2834a2a9b275",
   "metadata": {},
   "outputs": [
    {
     "data": {
      "image/png": "[encoded data removed]",
      "text/plain": [
       "<Figure size 432x288 with 1 Axes>"
      ]
     },
     "metadata": {
      "needs_background": "light"
     },
     "output_type": "display_data"
    }
   ],
   "source": [
    "from scipy.stats import norm\n",
    "import numpy as np\n",
    "import matplotlib.pyplot as plt\n",
    "\n",
    "\n",
    "x= np.arange(-4,4,0.001)\n",
    "plt.plot(x, norm.pdf(x))\n",
    "\n",
    "plt.show()"
   ]
  },
  {
   "cell_type": "code",
   "execution_count": 10,
   "id": "ea9ac898-36ea-4760-850d-0af6e07b120f",
   "metadata": {},
   "outputs": [
    {
     "name": "stdout",
     "output_type": "stream",
     "text": [
      "[ 1  2  3  4  5  6  7  8  9 10 11 12]\n"
     ]
    }
   ],
   "source": [
    "a = np.arange(1,13)\n",
    "print(a)"
   ]
  },
  {
   "cell_type": "code",
   "execution_count": 11,
   "id": "657084df-15b6-4acf-934d-8435aae2aeee",
   "metadata": {},
   "outputs": [
    {
     "name": "stdout",
     "output_type": "stream",
     "text": [
      "[[ 1  2  3  4]\n",
      " [ 5  6  7  8]\n",
      " [ 9 10 11 12]]\n",
      "[[ 1  2  3  4]\n",
      " [ 5  6  7  8]\n",
      " [ 9 10 11 12]]\n",
      "[[ 1  2  3  4]\n",
      " [ 5  6  7  8]\n",
      " [ 9 10 11 12]]\n"
     ]
    }
   ],
   "source": [
    "b = a.reshape(3,4)\n",
    "print(b)\n",
    "c = a.reshape(-1,4)\n",
    "print(c)\n",
    "d = a.reshape(-1,4)\n",
    "print(d)"
   ]
  },
  {
   "cell_type": "code",
   "execution_count": 12,
   "id": "1fd6e74a-563c-42a9-95c5-9630759bdd77",
   "metadata": {},
   "outputs": [
    {
     "name": "stdout",
     "output_type": "stream",
     "text": [
      "5\n",
      "[(1, 3), (1, 4), (1, 5), (2, 3), (2, 5), (3, 4), (3, 5)]\n"
     ]
    }
   ],
   "source": [
    "\n",
    "def gcd(a, b):\n",
    "    # Define the while loop as described\n",
    "    while b != 0:\n",
    "        temp_a = a\n",
    "        a = b\n",
    "        b = temp_a % b    \n",
    "    # Complete the return statement\n",
    "    return a\n",
    "\n",
    "print(gcd(10,15))\n",
    "\n",
    "\n",
    "# Create a list of tuples defining pairs of coprime numbers\n",
    "list1 = [1,2,3]\n",
    "list2 = [3,4,5]\n",
    "\n",
    "coprimes = [(i, j) for i in list1 \n",
    "                   for j in list2 if gcd(i, j) == 1]\n",
    "print(coprimes)"
   ]
  },
  {
   "cell_type": "code",
   "execution_count": 13,
   "id": "63bb3d41-8342-4065-8958-d7d9b893923e",
   "metadata": {},
   "outputs": [
    {
     "data": {
      "text/plain": [
       "'rindvieh'"
      ]
     },
     "execution_count": 13,
     "metadata": {},
     "output_type": "execute_result"
    }
   ],
   "source": [
    "\n",
    "# Define a function searching for the longest word\n",
    "def get_longest_word(*words):\n",
    "    longest_word = ''\n",
    "    for word in words:\n",
    "        if len(word) > len(longest_word):\n",
    "            longest_word = word\n",
    "    return longest_word\n",
    "\n",
    "get_longest_word('ente', 'rindvieh')"
   ]
  },
  {
   "cell_type": "code",
   "execution_count": 14,
   "id": "f906d089-0dc5-442b-b128-c47dd44a00ab",
   "metadata": {},
   "outputs": [
    {
     "name": "stdout",
     "output_type": "stream",
     "text": [
      "{'e': [0, 3], 'n': [1], 't': [2]}\n"
     ]
    }
   ],
   "source": [
    "def retrieve_character_indices(string):\n",
    "    character_indices = dict()\n",
    "    # Define the 'for' loop\n",
    "    for index, character in enumerate(string):\n",
    "        # Update the dictionary if the key already exists\n",
    "        if character in character_indices:\n",
    "            character_indices[character].append(index)\n",
    "        # Update the dictionary if the key is absent\n",
    "        else:\n",
    "            character_indices[character] = [index]\n",
    "            \n",
    "    return character_indices\n",
    "  \n",
    "print(retrieve_character_indices('ente'))\n",
    "\n",
    "#nur fürs hub"
   ]
  },
  {
   "cell_type": "code",
   "execution_count": 15,
   "id": "acdc78af-0cc9-49b0-b9c1-7bacaa441db8",
   "metadata": {},
   "outputs": [
    {
     "name": "stdout",
     "output_type": "stream",
     "text": [
      "2\n"
     ]
    }
   ],
   "source": [
    "from typing import List\n",
    "\n",
    "\n",
    "class Solution:\n",
    "    def numRescueBoats(self, people: List[int], limit: int) -> int:\n",
    "        people.sort()\n",
    "\n",
    "        left = 0\n",
    "        right = len(people)-1\n",
    "\n",
    "        boats_number = 0\n",
    "\n",
    "        while left<=right:\n",
    "            if left==right:\n",
    "                boats_number+=1\n",
    "                break\n",
    "            if people[left]+people[right]<=limit:\n",
    "                left+=1\n",
    "\n",
    "            right-=1\n",
    "            boats_number+=1\n",
    "        return boats_number\n",
    "   \n",
    "# set an instance\n",
    "s = Solution()\n",
    "a = s.numRescueBoats([1,2,3],4)\n",
    "print (a)\n",
    "# wieso ist das comment oben rot?"
   ]
  },
  {
   "cell_type": "code",
   "execution_count": 32,
   "id": "3814f396-0f3e-4e4f-999a-380f1fdd029a",
   "metadata": {},
   "outputs": [
    {
     "name": "stdout",
     "output_type": "stream",
     "text": [
      "[2, 1, 0, 0]\n"
     ]
    }
   ],
   "source": [
    "# Function which pushes all \n",
    "# zeros to end of an array. \n",
    "def pushZerosToEnd(arr, n): \n",
    "    count = 0 # Count of non-zero elements \n",
    "      \n",
    "    # Traverse the array. If element encountered is non-zero, then \n",
    "    # replace the element at index 'count' with this element\n",
    "     \n",
    "    for i in range(n):\n",
    "          if arr[i] != 0: \n",
    "              \n",
    "            # here count is incremented \n",
    "            arr[count] = arr[i] \n",
    "            count+=1\n",
    "      \n",
    "    # Now all non-zero elements have been shifted to front and 'count is set\n",
    "    # as index of first 0. Make all element 0 from count to end.  \n",
    "    \n",
    "    \n",
    "    while count < n: \n",
    "        arr[count] = 0\n",
    "        count += 1\n",
    "        \n",
    "\n",
    "arr = [0,2,0,1]\n",
    "n = 4\n",
    "pushZerosToEnd(arr,n)\n",
    "print(arr)"
   ]
  },
  {
   "cell_type": "code",
   "execution_count": 29,
   "id": "fb81ccb5-034a-4e0c-99e6-df2670ca773a",
   "metadata": {},
   "outputs": [
    {
     "data": {
      "text/plain": [
       "[1, 2, 0, 0]"
      ]
     },
     "execution_count": 29,
     "metadata": {},
     "output_type": "execute_result"
    }
   ],
   "source": [
    "def m(nums):\n",
    "  count = 0\n",
    "  for num in nums:\n",
    "    if(num !=0):\n",
    "      nums[count]= num\n",
    "      count += 1\n",
    "\n",
    "  for x in range((count +1), len(nums)):\n",
    "    nums[x]= 0\n",
    "    return nums\n",
    "\n",
    "nums =[0,1,0,2]\n",
    "m(nums)"
   ]
  },
  {
   "cell_type": "code",
   "execution_count": 22,
   "id": "866944e0-75a9-4de7-8600-6d4631e61b08",
   "metadata": {},
   "outputs": [
    {
     "name": "stdout",
     "output_type": "stream",
     "text": [
      "[<function <lambda> at 0x000002AA3F1CA670>, [1, 2, 3], [1, 2, 3]]\n"
     ]
    }
   ],
   "source": [
    "n1  = [1,2,3]\n",
    "n2  = [1,2,3]\n",
    "\n",
    "x = [lambda x,y : x+y, n1, n2]\n",
    "print(list(x))"
   ]
  },
  {
   "cell_type": "code",
   "execution_count": 26,
   "id": "ed0a6363-9b50-47cf-b621-ea5ac647fc8a",
   "metadata": {},
   "outputs": [
    {
     "name": "stdout",
     "output_type": "stream",
     "text": [
      "<map object at 0x000002AA3F1B8850>\n"
     ]
    }
   ],
   "source": [
    "n1  = [1,2,3]\n",
    "n2  = [1,2,3]\n",
    "\n",
    "x = map(lambda x,y : x+y, n1, n2)\n",
    "print((x))\n"
   ]
  },
  {
   "cell_type": "code",
   "execution_count": 1,
   "id": "62059dce-10a6-4d52-a2aa-93839843a231",
   "metadata": {
    "tags": []
   },
   "outputs": [
    {
     "name": "stdout",
     "output_type": "stream",
     "text": [
      "{<class 'int'>: ['a', 'b'], <class 'tuple'>: ['c'], <class 'float'>: ['d', 'e']}\n"
     ]
    }
   ],
   "source": [
    " # Define the function with an arbitrary number of arguments\n",
    "def key_types(**kwargs):\n",
    "    dict_type = dict()\n",
    "    # Iterate over key value pairs\n",
    "    for key, value in kwargs.items():\n",
    "        # Update a list associated with a key\n",
    "        if type(value) in dict_type:\n",
    "            dict_type[type(value)].append(key)\n",
    "        else:\n",
    "            dict_type[type(value)] = [key]\n",
    "            \n",
    "    return dict_type\n",
    "  \n",
    "res = key_types(a=1, b=2, c=(1, 2), d=3.1, e=4.2)\n",
    "print(res)"
   ]
  },
  {
   "cell_type": "code",
   "execution_count": 3,
   "id": "39b2686e-679e-41c9-aa17-664493868422",
   "metadata": {},
   "outputs": [
    {
     "name": "stdout",
     "output_type": "stream",
     "text": [
      "{<class 'int'>: ['a', 'b'], <class 'tuple'>: ['c'], <class 'float'>: ['d', 'e']}\n"
     ]
    }
   ],
   "source": [
    "def t(**kwargs):\n",
    "    t = dict()\n",
    "    for key, value in kwargs.items():\n",
    "        if type(value) in t:\n",
    "            t[type(value)].append(key)\n",
    "        else:\n",
    "            t[t(value)] = [key]\n",
    "    return t\n",
    "\n",
    "res = key_types(a=1, b=2, c=(1, 2), d=3.1, e=4.2)\n",
    "print(res)"
   ]
  },
  {
   "cell_type": "code",
   "execution_count": 8,
   "id": "11ae8950-31d6-4ba6-85cc-7df0cdef766d",
   "metadata": {},
   "outputs": [
    {
     "data": {
      "text/plain": [
       "{'t': 3, 'u': 1, 's': 1, 'i': 1, 'e': 2, 'n': 1, 'g': 1}"
      ]
     },
     "execution_count": 8,
     "metadata": {},
     "output_type": "execute_result"
    }
   ],
   "source": [
    "# Returns a dictionary counting charaters in a string\n",
    "def func2(s):\n",
    "    d = dict()\n",
    "    for c in set(s):\n",
    "        d[c] = s.count(c)\n",
    "\n",
    "    return d\n",
    "\n",
    "\n",
    "\n",
    "s = \"enteistgut\"\n",
    "func2(s)\n"
   ]
  },
  {
   "cell_type": "code",
   "execution_count": 32,
   "id": "f8ba686d-5106-4199-bb6f-77468fab8c9e",
   "metadata": {},
   "outputs": [
    {
     "name": "stdout",
     "output_type": "stream",
     "text": [
      "{'a': 3, 't': 1, 'D': 1, 'p': 1, 'm': 1, 'C': 1}\n"
     ]
    }
   ],
   "source": [
    "# Convert func2() to a lambda expression\n",
    "lambda2 = lambda s: dict([(c, s.count(c)) for c in set(s)])\n",
    "#print(func2('DataCamp'))\n",
    "print(lambda2('DataCamp'))\n",
    "\n"
   ]
  },
  {
   "cell_type": "code",
   "execution_count": 31,
   "id": "8f1bb058-cf8b-4505-91e3-0b7ccc05a33c",
   "metadata": {},
   "outputs": [
    {
     "name": "stdout",
     "output_type": "stream",
     "text": [
      "5.0\n"
     ]
    }
   ],
   "source": [
    "import math \n",
    "# Convert func3() to a lambda expression\n",
    "lambda3 = lambda *nums: math.sqrt(sum([n**2 for n in nums]))\n",
    "print(str(lambda3(3, 4)))\n"
   ]
  },
  {
   "cell_type": "code",
   "execution_count": 17,
   "id": "35f55e4e-8ff9-4b65-94f6-82b81ffaf858",
   "metadata": {},
   "outputs": [
    {
     "name": "stdout",
     "output_type": "stream",
     "text": [
      "[(12, 'ab', 'D'), (23, 'bc', 'a'), (33, 'cd', 't'), (4, 'df', 'a')]\n"
     ]
    }
   ],
   "source": [
    "def my_zip(*args):\n",
    "    \n",
    "    # Retrieve Iterable lengths and find the minimal length\n",
    "    lengths = list(map(len, args))\n",
    "    min_length = min(lengths)\n",
    "\n",
    "    tuple_list = []\n",
    "    for i in range(0, min_length):\n",
    "        # Map the elements in args with the same index i\n",
    "        mapping = map(lambda x: x[i], args)\n",
    "        # Convert the mapping and append it to tuple_list\n",
    "        tuple_list.append(tuple(mapping))\n",
    "        \n",
    "    return tuple_list\n",
    "\n",
    "result = my_zip([12, 23, 33, 4 ], ['ab', 'bc', 'cd', 'df'], 'DataCamp')\n",
    "print(result)"
   ]
  },
  {
   "cell_type": "code",
   "execution_count": 23,
   "id": "4836f646-78b8-49b1-b7d8-cf0ec2aedfac",
   "metadata": {},
   "outputs": [
    {
     "name": "stdout",
     "output_type": "stream",
     "text": [
      "Inverted string = pmacataD\n"
     ]
    }
   ],
   "source": [
    "from functools import reduce\n",
    "# Reverse a string using reduce()\n",
    "string = 'Datacamp'\n",
    "inv_string = reduce(lambda x, y: y + x, string)\n",
    "print('Inverted string = ' + inv_string) \n",
    "\n"
   ]
  },
  {
   "cell_type": "code",
   "execution_count": 24,
   "id": "0d947b4c-fcfb-47e9-999a-9ef8d900cd02",
   "metadata": {},
   "outputs": [
    {
     "name": "stdout",
     "output_type": "stream",
     "text": [
      "common items = {9, 4}\n"
     ]
    }
   ],
   "source": [
    "# Find common items shared among all the sets in sets\n",
    "sets = [{1, 4, 8, 9}, {2, 4, 6, 9, 10, 8}, {9, 0, 1, 2, 4}]\n",
    "common_items = reduce(lambda x, y: x.intersection(y), sets)\n",
    "print('common items = ' + str(common_items))"
   ]
  },
  {
   "cell_type": "code",
   "execution_count": 25,
   "id": "9d2ed7f5-941a-4702-8d29-64bf8b25527d",
   "metadata": {},
   "outputs": [
    {
     "name": "stdout",
     "output_type": "stream",
     "text": [
      "[5, 6, 0, 1] is converted to 5601\n"
     ]
    }
   ],
   "source": [
    "# Convert a number sequence into a single number\n",
    "nums = [5, 6, 0, 1]\n",
    "num = reduce(lambda x, y: 10*x + y, nums)\n",
    "print(str(nums) + ' is converted to ' + str(num))"
   ]
  },
  {
   "cell_type": "code",
   "execution_count": 28,
   "id": "28b4e155-9489-49fe-b88e-e268591ea41f",
   "metadata": {},
   "outputs": [
    {
     "data": {
      "text/plain": [
       "24"
      ]
     },
     "execution_count": 28,
     "metadata": {},
     "output_type": "execute_result"
    }
   ],
   "source": [
    "def f(n):\n",
    "    if n == 1:\n",
    "        return 1\n",
    "    return n * f(n-1)\n",
    "\n",
    "f(4)"
   ]
  },
  {
   "cell_type": "code",
   "execution_count": 29,
   "id": "7dcc0ca8-e285-4a6a-b99d-5bb8a240d075",
   "metadata": {},
   "outputs": [
    {
     "name": "stdout",
     "output_type": "stream",
     "text": [
      "jkaldjlaksdf\n"
     ]
    }
   ],
   "source": [
    "print('jkaldjlaksdf')\n"
   ]
  },
  {
   "cell_type": "code",
   "execution_count": 30,
   "id": "82da2aa1-7fc3-4334-8331-abd064243027",
   "metadata": {},
   "outputs": [
    {
     "name": "stdout",
     "output_type": "stream",
     "text": [
      "Datacamp\n",
      "Dtcmp\n"
     ]
    }
   ],
   "source": [
    "print(string)\n",
    "vowels = 'AEIOUaeiou'\n",
    "fstring = filter(lambda x: x not in vowels, string)\n",
    "print(''.join(fstring))"
   ]
  },
  {
   "cell_type": "code",
   "execution_count": 4,
   "id": "1770cefa-5f53-473d-b1b6-344c65f4759a",
   "metadata": {},
   "outputs": [
    {
     "name": "stdout",
     "output_type": "stream",
     "text": [
      "['k', 'wal', 'ente', 'klajdkljdfklajsflk']\n"
     ]
    }
   ],
   "source": [
    "# Sort words by the string length\n",
    "\n",
    "words = ['ente', 'wal', 'klajdkljdfklajsflk', 'k']\n",
    "words.sort(key=lambda s: len(s))\n",
    "print(words)\n"
   ]
  },
  {
   "cell_type": "code",
   "execution_count": 5,
   "id": "39a2887f-8b0c-4201-af81-30d4b73e2978",
   "metadata": {},
   "outputs": [
    {
     "name": "stdout",
     "output_type": "stream",
     "text": [
      "['ente', 'k', 'klajdkljdfklajsflk', 'wal']\n"
     ]
    }
   ],
   "source": [
    "# Sort words by the last character in a string\n",
    "words.sort(key=lambda s: s[-1])\n",
    "print(words)"
   ]
  },
  {
   "cell_type": "code",
   "execution_count": 1,
   "id": "661558d2-fd8a-41c7-8801-eb24563281ff",
   "metadata": {},
   "outputs": [
    {
     "data": {
      "text/plain": [
       "{'i': 1, 'u': 1, 't': 3, 'g': 1, 'n': 1, 'e': 2, 's': 1}"
      ]
     },
     "execution_count": 1,
     "metadata": {},
     "output_type": "execute_result"
    }
   ],
   "source": [
    "# Returns a dictionary counting charaters in a string\n",
    "def func2(s):\n",
    "    d = dict()\n",
    "    for c in set(s):\n",
    "        d[c] = s.count(c)\n",
    "    return d\n",
    "s = \"enteistgut\"\n",
    "func2(s)\n",
    "\n",
    "#{'t': 3, 'u': 1, 's': 1, 'i': 1, 'e': 2, 'n': 1, 'g': 1}"
   ]
  },
  {
   "cell_type": "code",
   "execution_count": 2,
   "id": "522c6291-0388-44ff-ba0a-fe559cc497c4",
   "metadata": {},
   "outputs": [
    {
     "data": {
      "text/plain": [
       "{'e': 2, 'n': 1, 't': 3, 'i': 1, 's': 1, 'g': 1, 'u': 1}"
      ]
     },
     "execution_count": 2,
     "metadata": {},
     "output_type": "execute_result"
    }
   ],
   "source": [
    "# Returns a dictionary counting charaters in a string\n",
    "def func2(s):\n",
    "    d = dict()\n",
    "    for c in s:\n",
    "        d[c] = s.count(c)\n",
    "    return d\n",
    "s = \"enteistgut\"\n",
    "func2(s)\n",
    "\n",
    "#{'t': 3, 'u': 1, 's': 1, 'i': 1, 'e': 2, 'n': 1, 'g': 1}\n",
    "#warum tut er det bluss... "
   ]
  },
  {
   "cell_type": "code",
   "execution_count": 13,
   "id": "c82de022-6d9f-4bcc-b5e3-a7b8a7635f89",
   "metadata": {},
   "outputs": [
    {
     "name": "stdout",
     "output_type": "stream",
     "text": [
      "[3, 4, 8]\n",
      "[[1, 'a', 'D'], [2, 'b', 'a'], [3, 'c', 't']]\n"
     ]
    }
   ],
   "source": [
    " def my_zip(*args):\n",
    "    \n",
    "    # Retrieve Iterable lengths and find the minimal length    \n",
    "    lengths = list(map(len, args))# ohne list kommt nur objecttype\n",
    "    print (lengths)\n",
    "    min_length = min(lengths)\n",
    "\n",
    "    tuple_list = []\n",
    "    for i in range(0, min_length):\n",
    "        # Map the elements in args with the same index i\n",
    "        mapping = map(lambda x: x[i], args)\n",
    "        # Convert the mapping and append it to tuple_list\n",
    "        tuple_list.append(list(mapping))\n",
    "        \n",
    "    return tuple_list\n",
    "\n",
    "result = my_zip([1, 2, 3], ['a', 'b', 'c', 'd'], 'DataCamp')\n",
    "print(result)"
   ]
  },
  {
   "cell_type": "code",
   "execution_count": null,
   "id": "940f38c1-16ab-424e-b506-ded0829cb5b3",
   "metadata": {},
   "outputs": [],
   "source": []
  }
 ],
 "metadata": {
  "kernelspec": {
   "display_name": "Python 3 (ipykernel)",
   "language": "python",
   "name": "python3"
  },
  "language_info": {
   "codemirror_mode": {
    "name": "ipython",
    "version": 3
   },
   "file_extension": ".py",
   "mimetype": "text/x-python",
   "name": "python",
   "nbconvert_exporter": "python",
   "pygments_lexer": "ipython3",
   "version": "3.8.11"
  }
 },
 "nbformat": 4,
 "nbformat_minor": 5
}
